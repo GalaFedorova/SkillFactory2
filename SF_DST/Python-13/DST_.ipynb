{
 "cells": [
  {
   "cell_type": "markdown",
   "metadata": {},
   "source": [
    "Цели данного модуля:\n",
    "\n",
    "* Познакомиться с различными способами графического представления данных.\n",
    "* Освоить основные методы визуализации библиотек Matplotlib и Pandas.\n",
    "* Научиться настраивать диаграммы в Matplotlib для повышения их информативности.\n",
    "* Освоить основные методы визуализации библиотеки Seaborn.\n",
    "* Освоить базовые методы интерактивной визуализации и анимации библиотеки Plotly.\n",
    "* Научиться выбирать правильные методы визуализации для конкретных задач."
   ]
  },
  {
   "cell_type": "markdown",
   "metadata": {},
   "source": [
    "Система координат — это способ определения положения точки в пространстве или на плоскости. Самая простая система координат — двумерная прямоугольная, или декартова, система координат, с которой вы знакомы из уроков математики в школе. Каждой точке в этой системе соответствуют два значения: значение по оси абсцисс и значение по оси ординат.\n",
    "\n",
    "Ось абсцисс — горизонтальная ось в прямоугольной системе координат. Традиционно её называют осью X.\n",
    "\n",
    "Ось ординат — вертикальная ось в прямоугольной системе координат. Традиционно её называют осью Y."
   ]
  },
  {
   "cell_type": "markdown",
   "metadata": {},
   "source": [
    "## ОСНОВНЫЕ ТИПЫ ВИЗУАЛИЗАЦИИ:\n",
    "* линейный график;\n",
    "* гистограмма;\n",
    "* диаграмма рассеяния;\n",
    "* коробчатая диаграмма;\n",
    "* круговая диаграмма;\n",
    "* столбчатая диаграмма;\n",
    "* тепловая карта."
   ]
  },
  {
   "cell_type": "markdown",
   "metadata": {},
   "source": [
    "## ЛИНЕЙНЫЙ ГРАФИК (LINEPLOT)\n",
    "представляет собой последовательность точек, соединённых линией. \n",
    "Каждая точка — это пара координат x и y, которые отображены \n",
    "по осям абсцисс и ординат (в двумерном случае). \n",
    "На практике, в Data Science такие графики чаще всего используются \n",
    "для визуализации временных рядов, \n",
    "например чтобы отследить динамику продаж во времени, \n",
    "число активных пользователей по дням, изменение курса валют и акций.\n",
    "\n",
    "График бывает особенно полезен, когда вы пытаетесь спрогнозировать \n",
    "ряд и вам необходимо увидеть свой прогноз на графике \n",
    "и сравнить его с действительностью."
   ]
  },
  {
   "cell_type": "markdown",
   "metadata": {},
   "source": [
    "![Пример](/images/lin.jpg \"вот\")"
   ]
  },
  {
   "cell_type": "code",
   "execution_count": null,
   "metadata": {},
   "outputs": [],
   "source": [
    "import matplotlib.pyplot as plt\n",
    "import seaborn as sns\n",
    "import pandas as pd\n",
    "\n",
    "vg_data = pd.read_csv('data/vgsales.csv')\n",
    "dinamic_by_region = vg_data[\n",
    "        ['NA_Sales', 'EU_Sales', 'JP_Sales', 'Other_Sales', 'Global_Sales', 'Year_of_Release']\n",
    "    ].groupby('Year_of_Release').sum()\n",
    "\n",
    "fig = plt.figure(figsize=(12, 6))\n",
    "lineplot = sns.lineplot(data=dinamic_by_region)\n",
    "lineplot.set_title('Динамика продаж видеоигр', fontsize=16)\n",
    "lineplot.set_xlabel('Год выпуска')\n",
    "lineplot.set_ylabel('Суммарный объём продаж')"
   ]
  },
  {
   "cell_type": "markdown",
   "metadata": {},
   "source": [
    "## ГИСТОГРАММА (HISTOGRAM)\n",
    "это способ визуализации частоты попадания признака в некоторый численный интервал. \n",
    "Гистограмма состоит из прямоугольников, расположенных вдоль оси x.\n",
    "Ось разбита на интервалы, их ещё называют корзинами (bins), \n",
    "их число задаётся пользователем. Ширина интервалов одинакова \n",
    "и задаёт ширину прямоугольника.\n",
    "\n",
    "По оси y откладывается высота прямоугольника — количество наблюдений, \n",
    "которые попали в интервал. \n",
    "Чем выше столбик, тем больше наблюдений находятся в интервале.\n",
    "\n",
    "Гистограммы часто используются для оценки распределения числового признака,\n",
    " например мы можем понять, как распределены цены на товары, число шагов,\n",
    "  которые делает пользователь умных часов, масса метеоритов, падающих на землю."
   ]
  },
  {
   "cell_type": "markdown",
   "metadata": {},
   "source": [
    "![Пример](/images/gist.jpg \"вот\")"
   ]
  },
  {
   "cell_type": "code",
   "execution_count": null,
   "metadata": {},
   "outputs": [],
   "source": [
    "import matplotlib.pyplot as plt\n",
    "import seaborn as sns\n",
    "import pandas as pd\n",
    "\n",
    "melb_data = pd.read_csv('data/melb_data.csv')\n",
    "\n",
    "fig, axes = plt.subplots(nrows=2, ncols=1, figsize=(12, 10))\n",
    "plt.subplots_adjust(hspace=.0)\n",
    "\n",
    "histplot1 = sns.histplot(\n",
    "    data=melb_data, \n",
    "    x='Price', \n",
    "    bins=30,\n",
    "    ax=axes[0],\n",
    ")\n",
    "histplot1.set_title('Распределение стоимости недвижимости в Мельбурне', fontsize=16)\n",
    "histplot1.set_xlabel('Цена объекта (млн. австралийских долларов)')\n",
    "histplot1.set_ylabel('Число объектов')\n",
    "\n",
    "histplot2 = sns.histplot(\n",
    "    data=melb_data,\n",
    "    x='Price',\n",
    "    y='Type',\n",
    "    bins=30,\n",
    "    color='green',\n",
    "    ax=axes[1]\n",
    ")\n",
    "histplot2.set_xlabel('Цена объекта (млн. австралийских долларов)')\n",
    "histplot2.set_ylabel('Тип объекта')"
   ]
  },
  {
   "cell_type": "markdown",
   "metadata": {},
   "source": [
    "## ДИАГРАММА РАССЕЯНИЯ (SCATTERPLOT)\n",
    "\n",
    "Другое название этого графика — точечная диаграмма.\n",
    "\n",
    "График представляет собой облака точек: \n",
    "по оси абсцисс откладывается одна числовая переменная, \n",
    "по оси ординат — вторая, а каждая точка на графике — это запись из таблицы.\n",
    "\n",
    "Диаграммы рассеяния являются стандартным средством визуализации связи \n",
    "между двумя числовыми переменными. Однако через настройки графика в \n",
    "исследование зависимости можно добавить и несколько категориальных переменных.\n",
    "\n",
    "Диаграммы рассеяния являются мощным инструментом, который очень широко\n",
    " используется в Data Science. С их помощью мы можем увидеть, как зависит \n",
    " (или не зависит) давление от возраста пациента, объём продаж товаров от\n",
    "  количества показанной рекламы и т. д.\n",
    "\n",
    "Оценив взаимосвязь признаков, мы можем принять решение об использовании \n",
    "какого-то из признаков для предсказания."
   ]
  },
  {
   "cell_type": "markdown",
   "metadata": {},
   "source": [
    "![Пример](/images/gist.jpg \"вот\")"
   ]
  },
  {
   "cell_type": "code",
   "execution_count": 1,
   "metadata": {},
   "outputs": [
    {
     "ename": "ModuleNotFoundError",
     "evalue": "No module named 'matplotlib'",
     "output_type": "error",
     "traceback": [
      "\u001b[1;31m---------------------------------------------------------------------------\u001b[0m",
      "\u001b[1;31mModuleNotFoundError\u001b[0m                       Traceback (most recent call last)",
      "\u001b[1;32md:\\IDE\\SF_DST\\Python-13\\DST_.ipynb Ячейка 12\u001b[0m in \u001b[0;36m<cell line: 1>\u001b[1;34m()\u001b[0m\n\u001b[1;32m----> <a href='vscode-notebook-cell:/d%3A/IDE/SF_DST/Python-13/DST_.ipynb#W0sZmlsZQ%3D%3D?line=0'>1</a>\u001b[0m \u001b[39mimport\u001b[39;00m \u001b[39mmatplotlib\u001b[39;00m\u001b[39m.\u001b[39;00m\u001b[39mpyplot\u001b[39;00m \u001b[39mas\u001b[39;00m \u001b[39mplt\u001b[39;00m\n\u001b[0;32m      <a href='vscode-notebook-cell:/d%3A/IDE/SF_DST/Python-13/DST_.ipynb#W0sZmlsZQ%3D%3D?line=1'>2</a>\u001b[0m \u001b[39mimport\u001b[39;00m \u001b[39mseaborn\u001b[39;00m \u001b[39mas\u001b[39;00m \u001b[39msns\u001b[39;00m\n\u001b[0;32m      <a href='vscode-notebook-cell:/d%3A/IDE/SF_DST/Python-13/DST_.ipynb#W0sZmlsZQ%3D%3D?line=2'>3</a>\u001b[0m \u001b[39mimport\u001b[39;00m \u001b[39mpandas\u001b[39;00m \u001b[39mas\u001b[39;00m \u001b[39mpd\u001b[39;00m\n",
      "\u001b[1;31mModuleNotFoundError\u001b[0m: No module named 'matplotlib'"
     ]
    }
   ],
   "source": [
    "import matplotlib.pyplot as plt\n",
    "import seaborn as sns\n",
    "import pandas as pd\n",
    "\n",
    "penguins_df = sns.load_dataset(\"penguins\")\n",
    "\n",
    "fig = plt.figure(figsize=(10, 5))\n",
    "\n",
    "scatterplot = sns.scatterplot(\n",
    "    data=penguins_df,\n",
    "    x='bill_length_mm',\n",
    "    y='flipper_length_mm',\n",
    "    hue='species',\n",
    "    s=100,\n",
    "    size='sex',\n",
    "    sizes=(50, 300)\n",
    "\n",
    ")\n",
    "scatterplot.set_title('Взаимосвязь размеров параметров тела разных видов пингвинов', fontsize=16)\n",
    "scatterplot.set_xlabel('Длина клюва')\n",
    "scatterplot.set_ylabel('Длина крыльев')\n"
   ]
  }
 ],
 "metadata": {
  "kernelspec": {
   "display_name": "Python 3.10.6 64-bit",
   "language": "python",
   "name": "python3"
  },
  "language_info": {
   "codemirror_mode": {
    "name": "ipython",
    "version": 3
   },
   "file_extension": ".py",
   "mimetype": "text/x-python",
   "name": "python",
   "nbconvert_exporter": "python",
   "pygments_lexer": "ipython3",
   "version": "3.10.6"
  },
  "orig_nbformat": 4,
  "vscode": {
   "interpreter": {
    "hash": "08d2fdf038ea2861fca0ce6cdc6b73b0acb590967b9b83f41ee1482d7086d86c"
   }
  }
 },
 "nbformat": 4,
 "nbformat_minor": 2
}
