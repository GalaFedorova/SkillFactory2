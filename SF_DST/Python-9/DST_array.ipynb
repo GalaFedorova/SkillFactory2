{
 "cells": [
  {
   "cell_type": "markdown",
   "metadata": {},
   "source": [
    "# Массивы\n",
    "объекты типа numpy.ndarray"
   ]
  },
  {
   "cell_type": "code",
   "execution_count": 114,
   "metadata": {},
   "outputs": [],
   "source": [
    "import numpy as np"
   ]
  },
  {
   "cell_type": "markdown",
   "metadata": {},
   "source": [
    "## Создание "
   ]
  },
  {
   "cell_type": "code",
   "execution_count": 115,
   "metadata": {},
   "outputs": [],
   "source": [
    "# 1. создание с помощью функции np.array(<объект>):\n",
    "arr = np.array([1,5,2,9,10])\n",
    "nd_arr = np.array([\n",
    "               [12, 45, 78],\n",
    "               [34, 56, 13],\n",
    "               [12, 98, 76]\n",
    "               ])\n",
    "# тип элементов и создание с заданным типом, смена типа\n",
    "arr.dtype\n",
    "arr = np.array([1,5,2,9,10], dtype=np.int8)\n",
    "arr = np.float64(arr)\n"
   ]
  },
  {
   "cell_type": "code",
   "execution_count": 116,
   "metadata": {},
   "outputs": [],
   "source": [
    "# 2. Массив из нулей создаётся функцией np.zeros. \n",
    "# Она принимает аргументы shape (обязательный) — форма массива \n",
    "# (одно число или кортеж) \n",
    "# и dtype (необязательный) — тип данных, который будет храниться в массиве.\n",
    "zeros_1d = np.zeros(5)\n",
    "zeros_3d = np.zeros((5,4,3), dtype=np.float32)"
   ]
  },
  {
   "cell_type": "code",
   "execution_count": 117,
   "metadata": {},
   "outputs": [
    {
     "data": {
      "text/plain": [
       "array([2.5, 3. , 3.5, 4. , 4.5])"
      ]
     },
     "execution_count": 117,
     "metadata": {},
     "output_type": "execute_result"
    }
   ],
   "source": [
    "# 3. функция для создания одномерных массивов является arange. \n",
    "# Она аналогична встроенной функции range, но обладает рядом особенностей. \n",
    "# Вот её сигнатура: arange([start,] stop, [step,], dtype=None).\n",
    "# Аргументы start (по умолчанию 0), step (по умолчанию 1) \n",
    "# и dtype (определяется автоматически) являются необязательными:\n",
    "# start (входит в диапазон возвращаемых значений) задаёт начальное число;\n",
    "# stop (не входит в диапазон возвращаемых значений, как и при использовании range) задаёт правую границу диапазона;\n",
    "# step задаёт шаг, с которым в массив добавляются новые значения.\n",
    "# В отличие от range все перечисленные параметры могут иметь тип float.\n",
    "arr=np.arange(5)\n",
    "arr=np.arange(2.5, 5, 0.5)\n",
    "arr"
   ]
  },
  {
   "cell_type": "code",
   "execution_count": 118,
   "metadata": {},
   "outputs": [
    {
     "data": {
      "text/plain": [
       "0.1111111111111111"
      ]
     },
     "execution_count": 118,
     "metadata": {},
     "output_type": "execute_result"
    }
   ],
   "source": [
    "# 4. На самом деле операции с плавающей точкой не всегда бывают предсказуемыми \n",
    "# из-за особенностей хранения таких чисел в памяти компьютера. \n",
    "# Поэтому для работы с дробными параметрами start, stop и step \n",
    "# лучше использовать функцию linspace (англ. linear space — линейное пространство). Она тоже возвращает одномерный массив из чисел, расположенных на равном удалении друг от друга между началом и концом диапазона, но обладает немного другим поведением и сигнатурой:\n",
    "# np.linspace(start, stop, num=50, endpoint=True, retstep=False, dtype=None)\n",
    "# start и stop являются обязательными параметрами, \n",
    "# задающими начало и конец возвращаемого диапазона;\n",
    "# num — параметр, задающий число элементов, \n",
    "# которое должно оказаться в массиве (по умолчанию 50);\n",
    "# endpoint — включён или исключён конец диапазона (по умолчанию включён);\n",
    "# retstep (по умолчанию False) позволяет указать, возвращать ли использованный шаг между значениями, помимо самого массива;\n",
    "# dtype — уже хорошо знакомый нам параметр, задающий тип данных \n",
    "# (если не задан, определяется автоматически).\n",
    "arr = np.linspace(1, 2, 10)\n",
    "arr = np.linspace(1, 2, 10, endpoint=False)\n",
    "arr, step = np.linspace(1, 2, 10, endpoint=True, retstep=True)\n",
    "step"
   ]
  },
  {
   "cell_type": "code",
   "execution_count": 119,
   "metadata": {},
   "outputs": [
    {
     "data": {
      "text/plain": [
       "1"
      ]
     },
     "execution_count": 119,
     "metadata": {},
     "output_type": "execute_result"
    }
   ],
   "source": [
    "# Узнать размерность массива можно с помощью .ndim\n",
    "arr.ndim"
   ]
  },
  {
   "cell_type": "code",
   "execution_count": 120,
   "metadata": {},
   "outputs": [
    {
     "data": {
      "text/plain": [
       "10"
      ]
     },
     "execution_count": 120,
     "metadata": {},
     "output_type": "execute_result"
    }
   ],
   "source": [
    "# Узнать общее число элементов в массиве можно с помощью .size\n",
    "arr.size"
   ]
  },
  {
   "cell_type": "code",
   "execution_count": 121,
   "metadata": {},
   "outputs": [
    {
     "data": {
      "text/plain": [
       "(10,)"
      ]
     },
     "execution_count": 121,
     "metadata": {},
     "output_type": "execute_result"
    }
   ],
   "source": [
    "# Форма или структура массива хранится в атрибуте .shape\n",
    "arr.shape"
   ]
  },
  {
   "cell_type": "code",
   "execution_count": 122,
   "metadata": {},
   "outputs": [
    {
     "data": {
      "text/plain": [
       "8"
      ]
     },
     "execution_count": 122,
     "metadata": {},
     "output_type": "execute_result"
    }
   ],
   "source": [
    "# знать, сколько «весит» каждый элемент массива в байтах позволяет .itemsize\n",
    "arr.itemsize"
   ]
  },
  {
   "cell_type": "code",
   "execution_count": 123,
   "metadata": {},
   "outputs": [
    {
     "data": {
      "text/plain": [
       "array([[ 0,  1,  2,  3],\n",
       "       [ 4,  5,  6,  7],\n",
       "       [ 8,  9, 10, 11],\n",
       "       [12, 13, 14, 15],\n",
       "       [16, 17, 18, 19],\n",
       "       [20, 21, 22, 23]])"
      ]
     },
     "execution_count": 123,
     "metadata": {},
     "output_type": "execute_result"
    }
   ],
   "source": [
    "import numpy as np\n",
    "arr=np.arange(24)\n",
    "arr.shape=(6,4)\n",
    "arr"
   ]
  },
  {
   "cell_type": "markdown",
   "metadata": {},
   "source": [
    "## обращение к элементам"
   ]
  },
  {
   "cell_type": "code",
   "execution_count": 124,
   "metadata": {},
   "outputs": [
    {
     "data": {
      "text/plain": [
       "23"
      ]
     },
     "execution_count": 124,
     "metadata": {},
     "output_type": "execute_result"
    }
   ],
   "source": [
    "# В переменную last сохраните элемент из последней строки последнего столбца\n",
    "last = arr[arr.shape[0]-1,arr.shape[1]-1]\n",
    "last"
   ]
  },
  {
   "cell_type": "code",
   "execution_count": 125,
   "metadata": {},
   "outputs": [
    {
     "data": {
      "text/plain": [
       "array([[23, 19, 15, 11,  7,  3]])"
      ]
     },
     "execution_count": 125,
     "metadata": {},
     "output_type": "execute_result"
    }
   ],
   "source": [
    "#  Сохраните в переменную rev последний столбец (как строку) в обратном порядке\n",
    "rev = arr[::-1,arr.shape[1]-1:arr.shape[1]].transpose()\n",
    "rev"
   ]
  },
  {
   "cell_type": "markdown",
   "metadata": {},
   "source": [
    "## Изменить форму массива"
   ]
  },
  {
   "cell_type": "code",
   "execution_count": 126,
   "metadata": {},
   "outputs": [
    {
     "data": {
      "text/plain": [
       "array([[ 0,  1,  2,  3,  4,  5],\n",
       "       [ 6,  7,  8,  9, 10, 11],\n",
       "       [12, 13, 14, 15, 16, 17],\n",
       "       [18, 19, 20, 21, 22, 23]])"
      ]
     },
     "execution_count": 126,
     "metadata": {},
     "output_type": "execute_result"
    }
   ],
   "source": [
    "# 1. с помощью присвоения атрибуту shape кортежа с желаемой формой\n",
    "arr.shape=(4,6)\n",
    "arr"
   ]
  },
  {
   "cell_type": "code",
   "execution_count": 127,
   "metadata": {},
   "outputs": [
    {
     "name": "stdout",
     "output_type": "stream",
     "text": [
      "[[ 0  1  2  3]\n",
      " [ 4  5  6  7]\n",
      " [ 8  9 10 11]\n",
      " [12 13 14 15]\n",
      " [16 17 18 19]\n",
      " [20 21 22 23]]\n"
     ]
    },
    {
     "data": {
      "text/plain": [
       "array([[ 0, 13,  3, 16],\n",
       "       [ 6, 19,  9, 22],\n",
       "       [12,  2, 15,  5],\n",
       "       [18,  8, 21, 11],\n",
       "       [ 1, 14,  4, 17],\n",
       "       [ 7, 20, 10, 23]])"
      ]
     },
     "execution_count": 127,
     "metadata": {},
     "output_type": "execute_result"
    }
   ],
   "source": [
    "# 2. функция reshape. Агумент также кортеж из чисел для формы, \n",
    "# но возвращает новый массив, а не изменяет исходный\n",
    "arr_new = arr.reshape((6, 4))\n",
    "print(arr_new)\n",
    "# есть дополнительный именованный аргумент order. \n",
    "# Он задаёт принцип, по которому элементы заполняют массив новой формы. \n",
    "# Если order='C' (по умолчанию), массив заполняется по строкам, как в примере выше. \n",
    "# Если order='F', массив заполняется числами по столбцам:\n",
    "arr_new = arr.reshape((6, 4), order='F')\n",
    "arr_new"
   ]
  },
  {
   "cell_type": "markdown",
   "metadata": {},
   "source": [
    "## Сортировка"
   ]
  },
  {
   "cell_type": "code",
   "execution_count": 128,
   "metadata": {},
   "outputs": [
    {
     "data": {
      "text/plain": [
       "array([[ 0,  1,  2,  3,  4,  5],\n",
       "       [ 6,  7,  8,  9, 10, 11],\n",
       "       [12, 13, 14, 15, 16, 17],\n",
       "       [18, 19, 20, 21, 22, 23]])"
      ]
     },
     "execution_count": 128,
     "metadata": {},
     "output_type": "execute_result"
    }
   ],
   "source": [
    "#Способ 1. Функция np.sort(<массив>) возвращает новый отсортированный массив:\n",
    "arr_new = np.sort(arr)\n",
    "arr_new"
   ]
  },
  {
   "cell_type": "code",
   "execution_count": 129,
   "metadata": {},
   "outputs": [
    {
     "data": {
      "text/plain": [
       "array([[ 0,  1,  2,  3,  4,  5],\n",
       "       [ 6,  7,  8,  9, 10, 11],\n",
       "       [12, 13, 14, 15, 16, 17],\n",
       "       [18, 19, 20, 21, 22, 23]])"
      ]
     },
     "execution_count": 129,
     "metadata": {},
     "output_type": "execute_result"
    }
   ],
   "source": [
    "#Способ 2. Функция <массив>.sort() сортирует исходный массив и возвращает None:\n",
    "arr.sort()\n",
    "arr"
   ]
  },
  {
   "cell_type": "markdown",
   "metadata": {},
   "source": [
    "## РАБОТА С ПРОПУЩЕННЫМИ ДАННЫМИ\n",
    "\n",
    "объект nan появляется к примеру при извлечении корня из отрицательного числа.  Он расшифровывается как Not a number (не число). Этот объект аналогичен встроенному типу None, но имеет несколько отличий.\n",
    "- None является отдельным объектом типа NoneType. np.nan — это отдельный представитель класса float\n",
    "- None могут быть равны друг другу, а np.nan — нет. Только nan is nan = True"
   ]
  },
  {
   "cell_type": "code",
   "execution_count": 130,
   "metadata": {},
   "outputs": [
    {
     "name": "stdout",
     "output_type": "stream",
     "text": [
      "[2.         3.                nan 1.73205081]\n",
      "[False False  True False]\n",
      "1\n"
     ]
    },
    {
     "name": "stderr",
     "output_type": "stream",
     "text": [
      "C:\\Users\\fga\\AppData\\Local\\Temp\\ipykernel_19568\\3992892861.py:2: RuntimeWarning: invalid value encountered in sqrt\n",
      "  roots = np.sqrt(data)\n"
     ]
    },
    {
     "data": {
      "text/plain": [
       "array([2.        , 3.        , 0.        , 1.73205081])"
      ]
     },
     "execution_count": 130,
     "metadata": {},
     "output_type": "execute_result"
    }
   ],
   "source": [
    "data = np.array([4, 9, -4, 3])\n",
    "roots = np.sqrt(data)\n",
    "print(roots)\n",
    "print(np.isnan(roots))\n",
    "# сколько nan?\n",
    "print(len(list(filter(lambda x: x, np.isnan(roots)))))\n",
    "# обнулить nan\n",
    "roots[np.isnan(roots)] = 0\n",
    "roots"
   ]
  },
  {
   "cell_type": "code",
   "execution_count": null,
   "metadata": {},
   "outputs": [],
   "source": []
  }
 ],
 "metadata": {
  "kernelspec": {
   "display_name": "Python 3.10.6 64-bit",
   "language": "python",
   "name": "python3"
  },
  "language_info": {
   "codemirror_mode": {
    "name": "ipython",
    "version": 3
   },
   "file_extension": ".py",
   "mimetype": "text/x-python",
   "name": "python",
   "nbconvert_exporter": "python",
   "pygments_lexer": "ipython3",
   "version": "3.10.6"
  },
  "orig_nbformat": 4,
  "vscode": {
   "interpreter": {
    "hash": "08d2fdf038ea2861fca0ce6cdc6b73b0acb590967b9b83f41ee1482d7086d86c"
   }
  }
 },
 "nbformat": 4,
 "nbformat_minor": 2
}
