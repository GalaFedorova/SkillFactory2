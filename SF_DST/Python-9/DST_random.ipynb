{
 "cells": [
  {
   "cell_type": "markdown",
   "metadata": {},
   "source": [
    "# Случайные числа"
   ]
  },
  {
   "cell_type": "code",
   "execution_count": 154,
   "metadata": {},
   "outputs": [],
   "source": [
    "import numpy as np"
   ]
  },
  {
   "cell_type": "code",
   "execution_count": 155,
   "metadata": {},
   "outputs": [
    {
     "data": {
      "text/plain": [
       "0.6707490847267786"
      ]
     },
     "execution_count": 155,
     "metadata": {},
     "output_type": "execute_result"
    }
   ],
   "source": [
    "# Случайное число от 0 до 1\n",
    "np.random.rand()"
   ]
  },
  {
   "cell_type": "code",
   "execution_count": 156,
   "metadata": {},
   "outputs": [
    {
     "data": {
      "text/plain": [
       "array([[0.82585276, 0.13670659, 0.57509333, 0.89132195, 0.20920212],\n",
       "       [0.18532822, 0.10837689, 0.21969749, 0.97862378, 0.81168315]])"
      ]
     },
     "execution_count": 156,
     "metadata": {},
     "output_type": "execute_result"
    }
   ],
   "source": [
    "# Можно сразу массив, в том чисде многомерный \n",
    "# передаем аргумаентами а не кортеж\n",
    "np.random.rand(2,5)"
   ]
  },
  {
   "cell_type": "code",
   "execution_count": 157,
   "metadata": {},
   "outputs": [
    {
     "data": {
      "text/plain": [
       "array([[0.17194101, 0.81622475, 0.27407375],\n",
       "       [0.43170418, 0.94002982, 0.81764938]])"
      ]
     },
     "execution_count": 157,
     "metadata": {},
     "output_type": "execute_result"
    }
   ],
   "source": [
    "# аналог с кортежем\n",
    "shape = (2, 3)\n",
    "np.random.sample(shape)"
   ]
  },
  {
   "cell_type": "code",
   "execution_count": 158,
   "metadata": {},
   "outputs": [
    {
     "data": {
      "text/plain": [
       "array([[-495.83207482, -736.88431939, -440.75193057],\n",
       "       [-991.46723897, -621.36046983,  193.49376271]])"
      ]
     },
     "execution_count": 158,
     "metadata": {},
     "output_type": "execute_result"
    }
   ],
   "source": [
    "# функция uniform:\n",
    "# uniform(low=0.0, high=1.0, size=None)\n",
    "# Первые два аргумента — нижняя и верхняя границы диапазона в формате float, \n",
    "# третий опциональный  — форма массива (если не задан, возвращается одно число). \n",
    "# Форма массива задаётся кортежем или одним числом.\n",
    "np.random.uniform(-1000, 500, size=(2, 3))"
   ]
  },
  {
   "cell_type": "code",
   "execution_count": 159,
   "metadata": {},
   "outputs": [
    {
     "data": {
      "text/plain": [
       "array([[ 8, 11,  9],\n",
       "       [ 6,  7,  6],\n",
       "       [11, 10,  8]])"
      ]
     },
     "execution_count": 159,
     "metadata": {},
     "output_type": "execute_result"
    }
   ],
   "source": [
    "# функция random.randint:\n",
    "# randint(low, high=None, size=None, dtype=int)\n",
    "# Функцию randint нельзя запустить совсем без параметров, \n",
    "# необходимо указать хотя бы одно число.\n",
    "#Если указан только аргумент low, числа будут генерироваться от 0 до low-1\n",
    "#Если задать low и high, числа будут генерироваться от low (вкл-но) до high (не вкл-но).\n",
    "# size задаёт форму массива: одним числом или кортежем .\n",
    "# dtype позволяет задать конкретный тип данных.\n",
    "np.random.randint(6, 12, size=(3,3))\n"
   ]
  },
  {
   "cell_type": "code",
   "execution_count": 160,
   "metadata": {},
   "outputs": [
    {
     "name": "stdout",
     "output_type": "stream",
     "text": [
      "[0 1 2 3 4 5]\n",
      "None\n"
     ]
    },
    {
     "data": {
      "text/plain": [
       "array([3, 4, 1, 2, 5, 0])"
      ]
     },
     "execution_count": 160,
     "metadata": {},
     "output_type": "execute_result"
    }
   ],
   "source": [
    "# Функция random.shuffle перемешивает тот массив, \n",
    "# к которому применяется, и возвращает None\n",
    "arr = np.arange(6)\n",
    "print(arr)\n",
    "# [0 1 2 3 4 5]\n",
    "print(np.random.shuffle(arr))\n",
    "# None\n",
    "arr"
   ]
  },
  {
   "cell_type": "code",
   "execution_count": 161,
   "metadata": {},
   "outputs": [
    {
     "name": "stdout",
     "output_type": "stream",
     "text": [
      "['ACDC' 'Deep Purple' 'The Beatles' 'Pink Floyd']\n",
      "['The Beatles', 'Pink Floyd', 'ACDC', 'Deep Purple']\n"
     ]
    }
   ],
   "source": [
    "# Чтобы получить новый перемешанный массив, а исходный оставить без изменений, \n",
    "# можно использовать функцию random.permutation. \n",
    "# Она принимает на вход один аргумент — или массив целиком, или одно число:\n",
    "playlist = [\"The Beatles\", \"Pink Floyd\", \"ACDC\", \"Deep Purple\"]\n",
    "shuffled = np.random.permutation(playlist)\n",
    "print(shuffled)\n",
    "# ['The Beatles' 'Pink Floyd' 'Deep Purple' 'ACDC']\n",
    "print(playlist)\n",
    "# ['The Beatles', 'Pink Floyd', 'ACDC', 'Deep Purple']"
   ]
  },
  {
   "cell_type": "code",
   "execution_count": 162,
   "metadata": {},
   "outputs": [
    {
     "data": {
      "text/plain": [
       "array([6, 8, 9, 7, 3, 0, 2, 4, 5, 1])"
      ]
     },
     "execution_count": 162,
     "metadata": {},
     "output_type": "execute_result"
    }
   ],
   "source": [
    "# Перемешать набор чисел от 0 до n-1 \n",
    "# можно с помощью записи np.random.permutation(n), где n — верхняя граница, \n",
    "# которая бы использовалась для генерации набора чисел функцией arange\n",
    "np.random.permutation(10)"
   ]
  },
  {
   "cell_type": "code",
   "execution_count": 163,
   "metadata": {},
   "outputs": [
    {
     "data": {
      "text/plain": [
       "array(['Maria', 'Kate'], dtype='<U6')"
      ]
     },
     "execution_count": 163,
     "metadata": {},
     "output_type": "execute_result"
    }
   ],
   "source": [
    "# Чтобы получить случайный набор объектов из массива, \n",
    "# используется функция random.choice: choice(a, size=None, replace=True)\n",
    "# a — одномерный массив или число для генерации arange(a);\n",
    "# size — желаемая форма массива \n",
    "# (число для получения одномерного массива, кортеж — для многомерного; если параметр не задан, возвращается один объект);\n",
    "# replace — параметр, задающий, могут ли элементы повторяться (по умолчанию могут).\n",
    "workers = ['Ivan', 'Nikita', 'Maria', 'John', 'Kate']\n",
    "np.random.choice(workers, size=2, replace=False)\n"
   ]
  },
  {
   "cell_type": "code",
   "execution_count": 164,
   "metadata": {},
   "outputs": [
    {
     "data": {
      "text/plain": [
       "array([14,  2, 15, 13,  3,  6,  9, 12, 16,  1])"
      ]
     },
     "execution_count": 164,
     "metadata": {},
     "output_type": "execute_result"
    }
   ],
   "source": [
    "# сгенерировать десять случайных чисел в диапазоне от 1 до 20 (включительно), \n",
    "# которые гарантированно не будут повторяться\n",
    "\n",
    "np.random.choice(np.arange(1, 21), size=10, replace=False)"
   ]
  },
  {
   "cell_type": "code",
   "execution_count": 165,
   "metadata": {},
   "outputs": [
    {
     "name": "stdout",
     "output_type": "stream",
     "text": [
      "[8 8 3]\n",
      "[7 7 0]\n",
      "[4 2 5]\n"
     ]
    }
   ],
   "source": [
    "# Задать seed в NumPy можно с помощью функции np.random.seed(<np.uint32>). \n",
    "# Число в скобках должно быть в пределах от 0 до 2**32 - 1 (=4294967295).\n",
    "\n",
    "np.random.seed(100)\n",
    "print(np.random.randint(10, size=3))\n",
    "# [8 8 3]\n",
    "print(np.random.randint(10, size=3))\n",
    "# [7 7 0]\n",
    "print(np.random.randint(10, size=3))\n",
    "# [4 2 5]"
   ]
  }
 ],
 "metadata": {
  "kernelspec": {
   "display_name": "Python 3.10.6 64-bit",
   "language": "python",
   "name": "python3"
  },
  "language_info": {
   "codemirror_mode": {
    "name": "ipython",
    "version": 3
   },
   "file_extension": ".py",
   "mimetype": "text/x-python",
   "name": "python",
   "nbconvert_exporter": "python",
   "pygments_lexer": "ipython3",
   "version": "3.10.6"
  },
  "orig_nbformat": 4,
  "vscode": {
   "interpreter": {
    "hash": "08d2fdf038ea2861fca0ce6cdc6b73b0acb590967b9b83f41ee1482d7086d86c"
   }
  }
 },
 "nbformat": 4,
 "nbformat_minor": 2
}
