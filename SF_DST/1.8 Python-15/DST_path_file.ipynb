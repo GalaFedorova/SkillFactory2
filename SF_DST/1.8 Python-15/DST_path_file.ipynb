{
 "cells": [
  {
   "cell_type": "markdown",
   "metadata": {},
   "source": [
    "## Применение ООП для работы с файлами"
   ]
  },
  {
   "cell_type": "markdown",
   "metadata": {},
   "source": [
    "В операционных системах UNIX разделительным знаком при записи пути является «/» (слеш), в Windows — «\\» (обратный слеш). например, такой путь на ОС Windows: C:\\Program Files.\n",
    "Существует два типа пути:\n",
    "* абсолютный;\n",
    "* относительный.\n",
    "Абсолютный путь всегда считается от «корня», той папки, откуда потом «вырастают» все остальные папки. \n",
    "Для Windows это диск С:, D: и т. д., для Unix это “/”. Абсолютный путь всегда уникальный.\n",
    "\n",
    "Абсолютный путь — это путь, который указывает на одно и то же место в файловой системе, вне зависимости от текущего рабочего каталога\n",
    "Его ещё называют полным.\n",
    "Относительный путь — это путь по отношению к текущему рабочему каталогу пользователя."
   ]
  },
  {
   "cell_type": "markdown",
   "metadata": {},
   "source": [
    "Чтобы поработать с путями, есть модуль os. \n",
    "Функция os.chdir() позволяет нам изменить директорию, которую мы в данный момент используем. \n",
    "Если вам нужно знать, какой путь вы в данный момент используете, для этого нужно вызвать os.getcwd()."
   ]
  },
  {
   "cell_type": "code",
   "execution_count": null,
   "metadata": {},
   "outputs": [
    {
     "name": "stdout",
     "output_type": "stream",
     "text": [
      "d:\\\n"
     ]
    }
   ],
   "source": [
    "# получить текущий путь\n",
    "start_path = os.getcwd()\n",
    "print(start_path) "
   ]
  },
  {
   "cell_type": "code",
   "execution_count": null,
   "metadata": {},
   "outputs": [
    {
     "data": {
      "text/plain": [
       "'d:\\\\'"
      ]
     },
     "metadata": {},
     "output_type": "display_data"
    }
   ],
   "source": [
    "os.chdir(\"..\") # подняться на один уровень выше\n",
    "os.getcwd() "
   ]
  },
  {
   "cell_type": "code",
   "execution_count": null,
   "metadata": {},
   "outputs": [
    {
     "data": {
      "text/plain": [
       "'d:\\\\IDE\\\\SF_DST\\\\Python-15'"
      ]
     },
     "metadata": {},
     "output_type": "display_data"
    }
   ],
   "source": [
    "# вернемся в ту директорию, из которой стартовали. \n",
    "# Изначально мы сохраняли её в переменной start_path.\n",
    "\n",
    "os.chdir(start_path)\n",
    "os.chdir(\"d:\\IDE\\SF_DST\\Python-15\")\n",
    "os.getcwd() "
   ]
  },
  {
   "cell_type": "code",
   "execution_count": null,
   "metadata": {},
   "outputs": [
    {
     "name": "stdout",
     "output_type": "stream",
     "text": [
      "['archive', 'DST_OOP.ipynb']\n",
      "Файл отсутствует в данной директории\n"
     ]
    }
   ],
   "source": [
    "# С помощью функции os.listdir() можно получить весь список файлов, находящихся в директории. Если не указать никаких аргументов, то будет взята текущая директория.\n",
    "\n",
    "# список файлов и директорий в папке\n",
    "import os\n",
    "\n",
    "print(os.listdir()) # ['SnapchatLoader', 'FBLoader', 'tmp.py', '.gitignore', 'venv', '.git']\n",
    "\n",
    "if 'tmp.py' not in os.listdir():\n",
    "    print(\"Файл отсутствует в данной директории\")"
   ]
  },
  {
   "cell_type": "code",
   "execution_count": null,
   "metadata": {},
   "outputs": [
    {
     "data": {
      "text/plain": [
       "'d:\\\\IDE\\\\SF_DST\\\\Python-15'"
      ]
     },
     "metadata": {},
     "output_type": "display_data"
    }
   ],
   "source": [
    "# вернемся в ту директорию, из которой стартовали. \n",
    "# Изначально мы сохраняли её в переменной start_path.\n",
    "\n",
    "os.chdir(start_path)\n",
    "os.chdir(\"d:\\IDE\\SF_DST\\Python-15\")\n",
    "os.getcwd() "
   ]
  },
  {
   "cell_type": "markdown",
   "metadata": {},
   "source": [
    "Для того чтобы склеивать пути с учётом особенностей ОС, следует использовать функцию os.path.join(). "
   ]
  },
  {
   "cell_type": "code",
   "execution_count": null,
   "metadata": {},
   "outputs": [
    {
     "name": "stdout",
     "output_type": "stream",
     "text": [
      "d:\\\n",
      "d:\\test\n"
     ]
    }
   ],
   "source": [
    "# соединяет пути с учётом особенностей операционной системы\n",
    "print(start_path)\n",
    "print(os.path.join(start_path, 'test'))\n"
   ]
  },
  {
   "cell_type": "code",
   "execution_count": null,
   "metadata": {},
   "outputs": [
    {
     "name": "stdout",
     "output_type": "stream",
     "text": [
      "Текущая директория d:\\IDE\\SF_DST\\Python-15\n",
      "---\n",
      "Список папок ['archive']\n",
      "---\n",
      "Список файлов ['DST_OOP.ipynb']\n",
      "---\n",
      "Все пути:\n",
      "Файл  d:\\IDE\\SF_DST\\Python-15\\DST_OOP.ipynb\n",
      "Папка  d:\\IDE\\SF_DST\\Python-15\\archive\n",
      "===\n",
      "Текущая директория d:\\IDE\\SF_DST\\Python-15\\archive\n",
      "---\n",
      "Папок нет\n",
      "---\n",
      "Список файлов ['22-12-03.pkl']\n",
      "---\n",
      "Файл  d:\\IDE\\SF_DST\\Python-15\\archive\\22-12-03.pkl\n",
      "===\n"
     ]
    }
   ],
   "source": [
    "# функция, которая принимает от пользователя путь \n",
    "# и выводит всю информацию о содержимом этой папки. \n",
    "# Для реализации используйте функцию встроенного модуля os.walk(). \n",
    "# Если путь не указан, то сравнение начинается с текущей директории.\n",
    "\n",
    "import os\n",
    "\n",
    "def walk_desc(path=None):\n",
    "    start_path = path if path is not None else os.getcwd()\n",
    "\n",
    "    for root, dirs, files in os.walk(start_path):\n",
    "        print(\"Текущая директория\", root)\n",
    "        print(\"---\")\n",
    "\n",
    "        if dirs:\n",
    "            print(\"Список папок\", dirs)\n",
    "        else:\n",
    "            print(\"Папок нет\")\n",
    "        print(\"---\")\n",
    "\n",
    "        if files:\n",
    "            print(\"Список файлов\", files)\n",
    "        else:\n",
    "            print(\"Файлов нет\")\n",
    "        print(\"---\")\n",
    "\n",
    "        if files and dirs:\n",
    "            print(\"Все пути:\")\n",
    "        for f in files:\n",
    "            print(\"Файл \", os.path.join(root, f))\n",
    "        for d in dirs:\n",
    "            print(\"Папка \", os.path.join(root, d))\n",
    "        print(\"===\")\n",
    "\n",
    "walk_desc()"
   ]
  },
  {
   "cell_type": "markdown",
   "metadata": {},
   "source": [
    "## РАБОТА С ФАЙЛАМИ\n",
    "\n",
    "Для того чтобы начать работать с файлом, надо его открыть с помощью команды специальной функции open.\n",
    "f = open('path/to/file', 'filemode', encoding='utf8')\n",
    "Результатом этой операции будет файл, в котором указатель текущей позиции поставлен на начало или конец файла.\n",
    "\n",
    "Давайте по порядку разберём все аргументы:\n",
    "\n",
    "* path/to/file — путь к файлу может быть относительным или абсолютным. Можно указывать в Unix-стиле (path/to/file) или в Windows-стиле (path\\to\\file).\n",
    "* filemode — режим, в котором файл нужно открывать.\n",
    "\n",
    "Записывается в виде строки, может принимать следующие значения:\n",
    "* r — открыть на чтение (по умолчанию);\n",
    "* w — перезаписать и открыть на запись (если файла нет, то он создастся);\n",
    "* x — создать и открыть на запись (если уже есть — исключение);\n",
    "* a — открыть на дозапись (указатель будет поставлен в конец);\n",
    "* t — открыть в текстовом виде (по умолчанию);\n",
    "* b — открыть в бинарном виде.\n",
    "\n",
    "\n",
    "* encoding — указание, в какой кодировке файл записан (utf8, cp1251 и т. д.) По умолчанию стоит utf-8. \n",
    "При этом можно записывать кодировку как через дефис, так и без: utf-8 или utf8."
   ]
  },
  {
   "cell_type": "markdown",
   "metadata": {},
   "source": [
    "__Открытие файла на запись является блокирующей операцией, то есть она останавливает работу нашей программы до того, пока файл не откроется.__"
   ]
  },
  {
   "cell_type": "code",
   "execution_count": 6,
   "metadata": {},
   "outputs": [
    {
     "name": "stdout",
     "output_type": "stream",
     "text": [
      "0\n",
      "22\n",
      "23\n",
      "21\n",
      "45\n"
     ]
    }
   ],
   "source": [
    "# Откроем файл на запись и с помощью метода write запишем в него строку. \n",
    "# В качестве результата метод write возвращает количество записанных символов.\n",
    "\n",
    "f = open('test.txt', 'w', encoding='utf8')\n",
    "print(f.tell())\n",
    "# Запишем в файл строку\n",
    "print(f.write(\"This is a test string\\n\"))\n",
    "print(f.tell())\n",
    "print(f.write(\"This is a new string\\n\"))\n",
    "print(f.tell())"
   ]
  },
  {
   "cell_type": "markdown",
   "metadata": {},
   "source": [
    "После вызова команды write ваши данные не сразу попадут и сохранятся в файл. \n",
    "Если для вас критично своевременное попадание информации на жесткий диск компьютера, то после записи вызывайте f.flush() или закрывайте файл.\n",
    " Закрыть файл можно с помощью метода close()."
   ]
  },
  {
   "cell_type": "code",
   "execution_count": 7,
   "metadata": {},
   "outputs": [],
   "source": [
    "# обязательно нужно закрыть файл иначе он будет заблокирован ОС\n",
    "f.close()"
   ]
  },
  {
   "cell_type": "code",
   "execution_count": 9,
   "metadata": {},
   "outputs": [],
   "source": [
    "# Откроем файл для чтения, в который только что записали две строки:\n",
    "\n",
    "f = open('test.txt', 'r', encoding='utf8')"
   ]
  },
  {
   "cell_type": "markdown",
   "metadata": {},
   "source": [
    "f.read(n) — операция, читающая с текущего места n символов, если файл открыт в t режиме, \n",
    "или n байт, если файл открыт в b режиме, и возвращающая прочитанную информацию."
   ]
  },
  {
   "cell_type": "code",
   "execution_count": 10,
   "metadata": {},
   "outputs": [
    {
     "name": "stdout",
     "output_type": "stream",
     "text": [
      "This is a \n"
     ]
    }
   ],
   "source": [
    "print(f.read(10)) # This is a "
   ]
  },
  {
   "cell_type": "markdown",
   "metadata": {},
   "source": [
    "После прочтения указатель на содержимое остается на той позиции, где чтение закончилось. \n",
    "Если n не указать, будет прочитано «от печки», то есть от текущего места указателя и до самого конца файла."
   ]
  },
  {
   "cell_type": "code",
   "execution_count": 11,
   "metadata": {},
   "outputs": [
    {
     "data": {
      "text/plain": [
       "'test string\\nThis is a new string\\n'"
      ]
     },
     "execution_count": 11,
     "metadata": {},
     "output_type": "execute_result"
    }
   ],
   "source": [
    "# считали остаток файла\n",
    "f.read() # test string\\nThis is a new string\\n"
   ]
  },
  {
   "cell_type": "code",
   "execution_count": 12,
   "metadata": {},
   "outputs": [],
   "source": [
    "# обязательно закрываем файл\n",
    "f.close()"
   ]
  },
  {
   "cell_type": "markdown",
   "metadata": {},
   "source": [
    "Смещение указателя\n",
    "f.seek(offset, from_what=0)\n",
    "offset - смещение\n",
    "from_what:\n",
    "* 0 - с начала (по умолчанию)\n",
    "* 1 - с текущего места (только режим b)\n",
    "* 2 - с конца (только режим b)\n",
    "\n"
   ]
  },
  {
   "cell_type": "markdown",
   "metadata": {},
   "source": [
    "## ЧТЕНИЕ И ЗАПИСЬ ПОСТРОЧНО"
   ]
  },
  {
   "cell_type": "markdown",
   "metadata": {},
   "source": [
    "Зачастую с файлами удобнее работать построчно, поэтому для этого есть отдельные методы:\n",
    "\n",
    "* writelines — записывает список строк в файл;\n",
    "* readline — считывает из файла одну строку и возвращает её;\n",
    "* readlines — считывает из файла все строки в список и возвращает их.\n",
    "\n",
    "Метод f.writelines(sequence) не будет сам за вас дописывать символ конца строки ('\\n'), поэтому при необходимости его нужно прописать вручную."
   ]
  },
  {
   "cell_type": "code",
   "execution_count": 13,
   "metadata": {},
   "outputs": [],
   "source": [
    "f = open('test.txt', 'a', encoding='utf8') # открываем файл на дозапись\n",
    "\n",
    "sequence = [\"other string\\n\", \"123\\n\", \"test test\\n\"]\n",
    "f.writelines(sequence) # берет строки из sequence и записывает в файл (без переносов)\n",
    "\n",
    "f.close()"
   ]
  },
  {
   "cell_type": "code",
   "execution_count": 14,
   "metadata": {},
   "outputs": [
    {
     "name": "stdout",
     "output_type": "stream",
     "text": [
      "['This is a test string\\n', 'This is a new string\\n', 'other string\\n', '123\\n', 'test test\\n']\n"
     ]
    }
   ],
   "source": [
    "# Попробуем теперь построчно считать файл с помощью readlines:\n",
    "\n",
    "f = open('test.txt', 'r', encoding='utf8')\n",
    "\n",
    "print(f.readlines()) # считывает все строки в список и возвращает список\n",
    "\n",
    "f.close()"
   ]
  },
  {
   "cell_type": "code",
   "execution_count": 15,
   "metadata": {},
   "outputs": [
    {
     "name": "stdout",
     "output_type": "stream",
     "text": [
      "This is a test string\n",
      "\n",
      "This\n",
      " is a new string\n",
      "\n"
     ]
    }
   ],
   "source": [
    "# Метод f.readline() возвращает строку (символы от текущей позиции до символа переноса строки):\n",
    "\n",
    "f = open('test.txt', 'r', encoding='utf8')\n",
    "\n",
    "print(f.readline()) # This is a test string\n",
    "print(f.read(4)) # This\n",
    "print(f.readline()) # is a new string\n",
    "\n",
    "f.close()"
   ]
  },
  {
   "cell_type": "markdown",
   "metadata": {},
   "source": [
    "## ФАЙЛ КАК ИТЕРАТОР\n",
    "\n",
    "Объект файл является итератором, поэтому его можно использовать в цикле for.\n",
    "\n",
    "Не стоит считывать файл полностью — в большинстве задач с обработкой текста весь файл разом читать не требуется. \n",
    "В таком случае с файлом работают построчно."
   ]
  },
  {
   "cell_type": "code",
   "execution_count": 16,
   "metadata": {},
   "outputs": [
    {
     "name": "stdout",
     "output_type": "stream",
     "text": [
      "This is a test string\n",
      "This is a new string\n",
      "other string\n",
      "123\n",
      "test test\n"
     ]
    }
   ],
   "source": [
    "f = open('test.txt')  # можно перечислять строки в файле\n",
    "for line in f:\n",
    "    print(line, end='') # чтобы не было два переноса строки\n",
    "\n",
    "# This is a test string\n",
    "# This is a new string\n",
    "# other string\n",
    "# 123\n",
    "# test test\n",
    "\n",
    "f.close()"
   ]
  },
  {
   "cell_type": "markdown",
   "metadata": {},
   "source": [
    "## МЕНЕДЖЕР КОНТЕКСТА WITH"
   ]
  },
  {
   "cell_type": "markdown",
   "metadata": {},
   "source": [
    "Для явного указания места работы с файлом, а также чтобы не забывать закрывать файл после обработки, существует менеджер контекста with."
   ]
  },
  {
   "cell_type": "code",
   "execution_count": 18,
   "metadata": {},
   "outputs": [],
   "source": [
    "# В блоке менеджера контекста открытый файл «жив» и с ним можно работать, при выходе из блока - файл закрывается.\n",
    "with open(\"test.txt\", 'rb') as f:\n",
    "    a = f.read(10)\n",
    "    b = f.read(23)\n",
    "\n",
    "# f.read(3) # Error!"
   ]
  },
  {
   "cell_type": "markdown",
   "metadata": {},
   "source": [
    "Тело менеджера контекста определяется __одним__ отступом вправо относительно отступов ключевого слова with. \n",
    "Менеджер контекста неявно вызывает закрытие файла после работы, что освобождает вас от забот о том, закрыли ли вы файл или нет. \n",
    "Закрытие файла происходит при любом стечении обстоятельств, даже если внутри with будет ошибка. "
   ]
  },
  {
   "cell_type": "code",
   "execution_count": 33,
   "metadata": {},
   "outputs": [],
   "source": [
    "# Создайте любой файл на операционной системе под название input.txt \n",
    "# и построчно перепишите его в файл output.txt.\n",
    "\n",
    "with open(\"test.txt\", \"r\") as input_file:\n",
    "    with open(\"output4.txt\", \"w\") as output_file:\n",
    "        for line in input_file:\n",
    "            output_file.write(line)"
   ]
  },
  {
   "cell_type": "code",
   "execution_count": 35,
   "metadata": {},
   "outputs": [],
   "source": [
    "# Дан файл numbers.txt, компоненты которого являются действительными числами\n",
    "# (файл создайте самостоятельно и заполните любыми числам, \n",
    "# в одной строке одно число). \n",
    "# Найдите сумму наибольшего и наименьшего из значений \n",
    "# и запишите результат в файл output.txt.\n",
    "\n",
    "filename = 'numbers.txt'\n",
    "output = 'output.txt'\n",
    "\n",
    "with open(filename) as f:\n",
    "    min_ = max_ = float(f.readline())  # считали первое число\n",
    "    for line in f:\n",
    "        num =  float(line)\n",
    "        if num > max_:\n",
    "            max_ = num\n",
    "        elif num < min_:\n",
    "            min_ = num\n",
    "\n",
    "    sum_ = min_ + max_\n",
    "\n",
    "with open(output, 'w') as f:\n",
    "    f.write(str(sum_))\n",
    "    f.write('\\n')"
   ]
  },
  {
   "cell_type": "code",
   "execution_count": 37,
   "metadata": {},
   "outputs": [
    {
     "ename": "UnicodeDecodeError",
     "evalue": "'charmap' codec can't decode byte 0x98 in position 1: character maps to <undefined>",
     "output_type": "error",
     "traceback": [
      "\u001b[1;31m---------------------------------------------------------------------------\u001b[0m",
      "\u001b[1;31mUnicodeDecodeError\u001b[0m                        Traceback (most recent call last)",
      "\u001b[1;32md:\\IDE\\SF_DST\\Python-15\\DST_path_file.ipynb Ячейка 37\u001b[0m in \u001b[0;36m<cell line: 7>\u001b[1;34m()\u001b[0m\n\u001b[0;32m      <a href='vscode-notebook-cell:/d%3A/IDE/SF_DST/Python-15/DST_path_file.ipynb#X65sZmlsZQ%3D%3D?line=4'>5</a>\u001b[0m filename \u001b[39m=\u001b[39m \u001b[39m'\u001b[39m\u001b[39minput.txt\u001b[39m\u001b[39m'\u001b[39m\n\u001b[0;32m      <a href='vscode-notebook-cell:/d%3A/IDE/SF_DST/Python-15/DST_path_file.ipynb#X65sZmlsZQ%3D%3D?line=6'>7</a>\u001b[0m \u001b[39mwith\u001b[39;00m \u001b[39mopen\u001b[39m(filename) \u001b[39mas\u001b[39;00m f:\n\u001b[1;32m----> <a href='vscode-notebook-cell:/d%3A/IDE/SF_DST/Python-15/DST_path_file.ipynb#X65sZmlsZQ%3D%3D?line=7'>8</a>\u001b[0m     \u001b[39mfor\u001b[39;00m line \u001b[39min\u001b[39;00m f:\n\u001b[0;32m      <a href='vscode-notebook-cell:/d%3A/IDE/SF_DST/Python-15/DST_path_file.ipynb#X65sZmlsZQ%3D%3D?line=8'>9</a>\u001b[0m         points \u001b[39m=\u001b[39m \u001b[39mint\u001b[39m(line\u001b[39m.\u001b[39msplit()[\u001b[39m-\u001b[39m\u001b[39m1\u001b[39m])\n\u001b[0;32m     <a href='vscode-notebook-cell:/d%3A/IDE/SF_DST/Python-15/DST_path_file.ipynb#X65sZmlsZQ%3D%3D?line=9'>10</a>\u001b[0m         \u001b[39mif\u001b[39;00m points \u001b[39m<\u001b[39m \u001b[39m3\u001b[39m:\n",
      "File \u001b[1;32mc:\\Users\\fga\\AppData\\Local\\Programs\\Python\\Python310\\lib\\encodings\\cp1251.py:23\u001b[0m, in \u001b[0;36mIncrementalDecoder.decode\u001b[1;34m(self, input, final)\u001b[0m\n\u001b[0;32m     22\u001b[0m \u001b[39mdef\u001b[39;00m \u001b[39mdecode\u001b[39m(\u001b[39mself\u001b[39m, \u001b[39minput\u001b[39m, final\u001b[39m=\u001b[39m\u001b[39mFalse\u001b[39;00m):\n\u001b[1;32m---> 23\u001b[0m     \u001b[39mreturn\u001b[39;00m codecs\u001b[39m.\u001b[39;49mcharmap_decode(\u001b[39minput\u001b[39;49m,\u001b[39mself\u001b[39;49m\u001b[39m.\u001b[39;49merrors,decoding_table)[\u001b[39m0\u001b[39m]\n",
      "\u001b[1;31mUnicodeDecodeError\u001b[0m: 'charmap' codec can't decode byte 0x98 in position 1: character maps to <undefined>"
     ]
    }
   ],
   "source": [
    "# В текстовый файл построчно записаны фамилии и имена учащихся класса \n",
    "# и их оценки за контрольную. \n",
    "# Подсчитайте количество учащихся, чья оценка меньше 3 баллов\n",
    "count = 0\n",
    "filename = 'input.txt'\n",
    "\n",
    "with open(filename) as f:\n",
    "    for line in f:\n",
    "        points = int(line.split()[-1])\n",
    "        if points < 3:\n",
    "            count += 1"
   ]
  },
  {
   "cell_type": "code",
   "execution_count": 30,
   "metadata": {},
   "outputs": [
    {
     "ename": "UnicodeDecodeError",
     "evalue": "'charmap' codec can't decode byte 0x98 in position 1: character maps to <undefined>",
     "output_type": "error",
     "traceback": [
      "\u001b[1;31m---------------------------------------------------------------------------\u001b[0m",
      "\u001b[1;31mUnicodeDecodeError\u001b[0m                        Traceback (most recent call last)",
      "\u001b[1;32md:\\IDE\\SF_DST\\Python-15\\DST_path_file.ipynb Ячейка 38\u001b[0m in \u001b[0;36m<cell line: 3>\u001b[1;34m()\u001b[0m\n\u001b[0;32m      <a href='vscode-notebook-cell:/d%3A/IDE/SF_DST/Python-15/DST_path_file.ipynb#X66sZmlsZQ%3D%3D?line=2'>3</a>\u001b[0m \u001b[39mwith\u001b[39;00m \u001b[39mopen\u001b[39m(\u001b[39m\"\u001b[39m\u001b[39minput.txt\u001b[39m\u001b[39m\"\u001b[39m, \u001b[39m\"\u001b[39m\u001b[39mr\u001b[39m\u001b[39m\"\u001b[39m) \u001b[39mas\u001b[39;00m input_file:\n\u001b[0;32m      <a href='vscode-notebook-cell:/d%3A/IDE/SF_DST/Python-15/DST_path_file.ipynb#X66sZmlsZQ%3D%3D?line=3'>4</a>\u001b[0m     \u001b[39mwith\u001b[39;00m \u001b[39mopen\u001b[39m(\u001b[39m\"\u001b[39m\u001b[39moutput2.txt\u001b[39m\u001b[39m\"\u001b[39m, \u001b[39m\"\u001b[39m\u001b[39mw\u001b[39m\u001b[39m\"\u001b[39m) \u001b[39mas\u001b[39;00m output_file:\n\u001b[1;32m----> <a href='vscode-notebook-cell:/d%3A/IDE/SF_DST/Python-15/DST_path_file.ipynb#X66sZmlsZQ%3D%3D?line=4'>5</a>\u001b[0m         \u001b[39mfor\u001b[39;00m line \u001b[39min\u001b[39;00m \u001b[39mreversed\u001b[39m(input_file\u001b[39m.\u001b[39;49mreadlines()):\n\u001b[0;32m      <a href='vscode-notebook-cell:/d%3A/IDE/SF_DST/Python-15/DST_path_file.ipynb#X66sZmlsZQ%3D%3D?line=5'>6</a>\u001b[0m             output_file\u001b[39m.\u001b[39mwrite(line)\n",
      "File \u001b[1;32mc:\\Users\\fga\\AppData\\Local\\Programs\\Python\\Python310\\lib\\encodings\\cp1251.py:23\u001b[0m, in \u001b[0;36mIncrementalDecoder.decode\u001b[1;34m(self, input, final)\u001b[0m\n\u001b[0;32m     22\u001b[0m \u001b[39mdef\u001b[39;00m \u001b[39mdecode\u001b[39m(\u001b[39mself\u001b[39m, \u001b[39minput\u001b[39m, final\u001b[39m=\u001b[39m\u001b[39mFalse\u001b[39;00m):\n\u001b[1;32m---> 23\u001b[0m     \u001b[39mreturn\u001b[39;00m codecs\u001b[39m.\u001b[39;49mcharmap_decode(\u001b[39minput\u001b[39;49m,\u001b[39mself\u001b[39;49m\u001b[39m.\u001b[39;49merrors,decoding_table)[\u001b[39m0\u001b[39m]\n",
      "\u001b[1;31mUnicodeDecodeError\u001b[0m: 'charmap' codec can't decode byte 0x98 in position 1: character maps to <undefined>"
     ]
    }
   ],
   "source": [
    "# Выполните реверсирование строк файла (перестановку строк файла в обратном порядке).\n",
    "\n",
    "with open(\"input.txt\", \"r\") as input_file:\n",
    "    with open(\"output2.txt\", \"w\") as output_file:\n",
    "        for line in reversed(input_file.readlines()):\n",
    "            output_file.write(line)"
   ]
  },
  {
   "cell_type": "markdown",
   "metadata": {},
   "source": []
  }
 ],
 "metadata": {
  "kernelspec": {
   "display_name": "Python 3.10.6 64-bit",
   "language": "python",
   "name": "python3"
  },
  "language_info": {
   "codemirror_mode": {
    "name": "ipython",
    "version": 3
   },
   "file_extension": ".py",
   "mimetype": "text/x-python",
   "name": "python",
   "nbconvert_exporter": "python",
   "pygments_lexer": "ipython3",
   "version": "3.10.6"
  },
  "orig_nbformat": 4,
  "vscode": {
   "interpreter": {
    "hash": "08d2fdf038ea2861fca0ce6cdc6b73b0acb590967b9b83f41ee1482d7086d86c"
   }
  }
 },
 "nbformat": 4,
 "nbformat_minor": 2
}
